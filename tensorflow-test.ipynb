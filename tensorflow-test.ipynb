{
 "cells": [
  {
   "cell_type": "code",
   "execution_count": 2,
   "metadata": {},
   "outputs": [],
   "source": [
    "# import libs\n",
    "import tensorflow as tf"
   ]
  },
  {
   "cell_type": "code",
   "execution_count": 6,
   "metadata": {},
   "outputs": [
    {
     "output_type": "stream",
     "name": "stdout",
     "text": "Hello, Tensorflow!\n"
    }
   ],
   "source": [
    "hello = tf.constant('Hello, Tensorflow!')\n",
    "tf.print(hello)"
   ]
  }
 ],
 "metadata": {
  "language_info": {
   "codemirror_mode": {
    "name": "ipython",
    "version": 3
   },
   "file_extension": ".py",
   "mimetype": "text/x-python",
   "name": "python",
   "nbconvert_exporter": "python",
   "pygments_lexer": "ipython3",
   "version": "3.6.10-final"
  },
  "orig_nbformat": 2,
  "kernelspec": {
   "name": "python361064bitlogogancondad25439fd098c416eaca06d7d518e67a9",
   "display_name": "Python 3.6.10 64-bit ('logo-GAN': conda)"
  }
 },
 "nbformat": 4,
 "nbformat_minor": 2
}